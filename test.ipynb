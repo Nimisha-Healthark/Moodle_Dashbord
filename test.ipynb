{
 "cells": [
  {
   "cell_type": "code",
   "execution_count": null,
   "id": "b7c5ebb2",
   "metadata": {},
   "outputs": [],
   "source": [
    "from posh_reminder import fetch_posh_df, prepare_reminder_list\n",
    "\n",
    "posh_df = fetch_posh_df()\n",
    "\n",
    "posh_df.drop_duplicates(inplace=True)"
   ]
  },
  {
   "cell_type": "code",
   "execution_count": null,
   "id": "147e052c",
   "metadata": {},
   "outputs": [],
   "source": [
    "from df_views import preprocess_df\n",
    "import pandas as pd\n",
    "import numpy as np"
   ]
  },
  {
   "cell_type": "code",
   "execution_count": null,
   "id": "7ef9ff06",
   "metadata": {},
   "outputs": [],
   "source": [
    "original_df = pd.read_excel(r'downloads\\Healthark Academy User Details.xlsx')\n",
    "original_df = preprocess_df(original_df)\n",
    "posh_df = pd.read_excel(r'downloads\\POSH_Reminder_data.xlsx').drop_duplicates()\n",
    "\n",
    "# Identify missing names\n",
    "missing_rows = original_df.loc[\n",
    "    ~original_df['User'].isin(posh_df['Name of Student']),\n",
    "    ['User', 'Email', 'Time enrolled', 'Time completed']\n",
    "].copy()\n",
    "\n",
    "# Rename to match posh_df's column names\n",
    "missing_rows.rename(\n",
    "    columns={\n",
    "        'User': 'Name of Student',\n",
    "        'Email': 'Email Address',\n",
    "        'Time enrolled': 'Date Started',\n",
    "        'Time completed': 'Date Ended'\n",
    "    }, \n",
    "    inplace=True\n",
    ")\n",
    "\n",
    "missing_rows['Date Started'] = pd.to_datetime(missing_rows['Date Started']).dt.date\n",
    "missing_rows['Date Ended'] = pd.to_datetime(missing_rows['Date Ended']).dt.date\n",
    "\n",
    "missing_rows['Date of Reminder'] = np.where(\n",
    "    missing_rows['Date Ended'].notna(),\n",
    "    missing_rows['Date Ended'] + pd.DateOffset(years=1),\n",
    "    missing_rows['Date Started'] + pd.DateOffset(years=1)\n",
    ")\n",
    "\n",
    "# Append missing rows to posh_df\n",
    "updated_df = pd.concat([posh_df, missing_rows], ignore_index=True)\n",
    "updated_df.to_excel(r'downloads\\POSH_Reminder_data.xlsx', index=False)"
   ]
  },
  {
   "cell_type": "code",
   "execution_count": null,
   "id": "807d73fc",
   "metadata": {},
   "outputs": [],
   "source": [
    "posh_df = pd.read_excel(r'downloads\\POSH_Reminder_data.xlsx')\n",
    "\n",
    "posh_df"
   ]
  },
  {
   "cell_type": "code",
   "execution_count": null,
   "id": "7d9b3b68",
   "metadata": {},
   "outputs": [],
   "source": [
    "original_df.columns"
   ]
  },
  {
   "cell_type": "code",
   "execution_count": null,
   "id": "1b1e23bb",
   "metadata": {},
   "outputs": [],
   "source": [
    "original_df['Courses'].unique()"
   ]
  },
  {
   "cell_type": "code",
   "execution_count": null,
   "id": "6a1348c0",
   "metadata": {},
   "outputs": [],
   "source": [
    "df = original_df[original_df['Courses'].str.lower() == 'prevention of sexual harassment']\n",
    "\n",
    "df"
   ]
  },
  {
   "cell_type": "code",
   "execution_count": null,
   "id": "260adb9b",
   "metadata": {},
   "outputs": [],
   "source": [
    "len(df)"
   ]
  },
  {
   "cell_type": "code",
   "execution_count": null,
   "id": "2f42e584",
   "metadata": {},
   "outputs": [],
   "source": [
    "df.drop_duplicates(inplace=True)"
   ]
  },
  {
   "cell_type": "code",
   "execution_count": null,
   "id": "509474b0",
   "metadata": {},
   "outputs": [],
   "source": [
    "len(df)"
   ]
  },
  {
   "cell_type": "code",
   "execution_count": null,
   "id": "d085e789",
   "metadata": {},
   "outputs": [],
   "source": [
    "posh_df = pd.DataFrame()\n",
    "\n",
    "posh_df['User'] = df['User']\n",
    "\n",
    "posh_df"
   ]
  },
  {
   "cell_type": "code",
   "execution_count": null,
   "id": "57cb78ed",
   "metadata": {},
   "outputs": [],
   "source": [
    "posh_df['Email'] = df['Email']\n",
    "\n",
    "posh_df"
   ]
  },
  {
   "cell_type": "code",
   "execution_count": null,
   "id": "53db1e20",
   "metadata": {},
   "outputs": [],
   "source": [
    "posh_df['Date Started'] = df['Time enrolled'].dt.date\n",
    "\n",
    "posh_df"
   ]
  },
  {
   "cell_type": "code",
   "execution_count": null,
   "id": "68ff5dca",
   "metadata": {},
   "outputs": [],
   "source": [
    "posh_df['Date Ended'] = pd.to_datetime(df['Time completed']).dt.date\n",
    "\n",
    "posh_df"
   ]
  },
  {
   "cell_type": "code",
   "execution_count": null,
   "id": "14b6823d",
   "metadata": {},
   "outputs": [],
   "source": [
    "posh_df.reset_index(drop=True, inplace=True)\n",
    "\n",
    "posh_df"
   ]
  },
  {
   "cell_type": "code",
   "execution_count": null,
   "id": "ab5bebed",
   "metadata": {},
   "outputs": [],
   "source": [
    "posh_df['Date of Reminder'] = np.where(\n",
    "        posh_df['Date Ended'].notna(),\n",
    "        posh_df['Date Ended'] + pd.DateOffset(years=1),\n",
    "        posh_df['Date Started'] + pd.DateOffset(years=1)\n",
    "    )\n",
    "posh_df"
   ]
  },
  {
   "cell_type": "code",
   "execution_count": null,
   "id": "f1f6e007",
   "metadata": {},
   "outputs": [],
   "source": [
    "posh_df = posh_df.drop(columns=\"index\", errors='ignore')"
   ]
  },
  {
   "cell_type": "code",
   "execution_count": null,
   "id": "b4653b18",
   "metadata": {},
   "outputs": [],
   "source": [
    "posh_df.to_excel(r'downloads\\POSH_Reminder_data.xlsx', index=False)"
   ]
  },
  {
   "cell_type": "code",
   "execution_count": null,
   "id": "149405a3",
   "metadata": {},
   "outputs": [],
   "source": [
    "names = posh_df['User'].unique()\n",
    "len(names)"
   ]
  },
  {
   "cell_type": "code",
   "execution_count": 5,
   "id": "e1d926d0",
   "metadata": {},
   "outputs": [
    {
     "name": "stdout",
     "output_type": "stream",
     "text": [
      "Hi Devadyumna Vijay Kumar,\n",
      "\n",
      "This is a reminder to complete your Moodle courses.\n",
      "\n",
      "Incomplete Courses:\n",
      "POSH\n",
      "Compliance\n",
      "Alteryx\n",
      "\n",
      "Regards,\n",
      "Healthark Academy\n",
      "\n"
     ]
    }
   ],
   "source": [
    "from cgitb import text\n",
    "from docx import Document\n",
    "\n",
    "def generate_body(name: str, incomplete_courses: list[str]) -> str:\n",
    "    doc = Document(r'downloads\\Course Reminder Mail.docx')\n",
    "    paras = []\n",
    "\n",
    "    courses = \"\\n\".join(incomplete_courses)\n",
    "\n",
    "    for para in doc.paragraphs:\n",
    "        line = para.text.replace(\"{name}\", name).replace(\"{course_list}\", courses)\n",
    "        paras.append(line)\n",
    "\n",
    "    text = \"\\n\".join(paras)\n",
    "    return text\n",
    "\n",
    "body = generate_body(\"Devadyumna Vijay Kumar\", [\"POSH\", \"Compliance\", \"Alteryx\"])\n",
    "print(body)"
   ]
  },
  {
   "cell_type": "code",
   "execution_count": 1,
   "id": "3edca895",
   "metadata": {},
   "outputs": [
    {
     "name": "stderr",
     "output_type": "stream",
     "text": [
      "INFO: file_cache is only supported with oauth2client<4.0.0\n",
      "INFO: Downloaded: downloads\\Healthark Academy User Details.xlsx\n"
     ]
    }
   ],
   "source": [
    "from mail_excel import fetch_excel_attachment\n",
    "\n",
    "filepath = fetch_excel_attachment()"
   ]
  },
  {
   "cell_type": "code",
   "execution_count": 1,
   "id": "034c940d",
   "metadata": {},
   "outputs": [
    {
     "name": "stderr",
     "output_type": "stream",
     "text": [
      "d:\\Moodle Report Automation\\posh_reminder.py:62: SettingWithCopyWarning: \n",
      "A value is trying to be set on a copy of a slice from a DataFrame\n",
      "\n",
      "See the caveats in the documentation: https://pandas.pydata.org/pandas-docs/stable/user_guide/indexing.html#returning-a-view-versus-a-copy\n",
      "  df.drop_duplicates(inplace=True)\n"
     ]
    }
   ],
   "source": [
    "from posh_reminder import create_fresh_report, fetch_posh_df\n",
    "create_fresh_report()\n",
    "posh_df = fetch_posh_df()"
   ]
  },
  {
   "cell_type": "code",
   "execution_count": 2,
   "id": "edcfc87c",
   "metadata": {},
   "outputs": [
    {
     "data": {
      "text/html": [
       "<div>\n",
       "<style scoped>\n",
       "    .dataframe tbody tr th:only-of-type {\n",
       "        vertical-align: middle;\n",
       "    }\n",
       "\n",
       "    .dataframe tbody tr th {\n",
       "        vertical-align: top;\n",
       "    }\n",
       "\n",
       "    .dataframe thead th {\n",
       "        text-align: right;\n",
       "    }\n",
       "</style>\n",
       "<table border=\"1\" class=\"dataframe\">\n",
       "  <thead>\n",
       "    <tr style=\"text-align: right;\">\n",
       "      <th></th>\n",
       "      <th>User</th>\n",
       "      <th>Email</th>\n",
       "      <th>Date Started</th>\n",
       "      <th>Date Ended</th>\n",
       "      <th>Date of Reminder</th>\n",
       "    </tr>\n",
       "  </thead>\n",
       "  <tbody>\n",
       "    <tr>\n",
       "      <th>0</th>\n",
       "      <td>Smit Doshi</td>\n",
       "      <td>smit@healtharkinsights.com</td>\n",
       "      <td>2025-08-05</td>\n",
       "      <td>NaN</td>\n",
       "      <td>2026-08-05</td>\n",
       "    </tr>\n",
       "    <tr>\n",
       "      <th>1</th>\n",
       "      <td>Himani Acharya</td>\n",
       "      <td>himani@healtharkinsights.com</td>\n",
       "      <td>2025-08-05</td>\n",
       "      <td>NaN</td>\n",
       "      <td>2026-08-05</td>\n",
       "    </tr>\n",
       "    <tr>\n",
       "      <th>2</th>\n",
       "      <td>Anant Jain</td>\n",
       "      <td>anantjain@healtharkinsights.com</td>\n",
       "      <td>2025-08-05</td>\n",
       "      <td>NaN</td>\n",
       "      <td>2026-08-05</td>\n",
       "    </tr>\n",
       "    <tr>\n",
       "      <th>3</th>\n",
       "      <td>Jay Dalwadi</td>\n",
       "      <td>jaydalwadi@healtharkinsights.com</td>\n",
       "      <td>2025-08-05</td>\n",
       "      <td>NaN</td>\n",
       "      <td>2026-08-05</td>\n",
       "    </tr>\n",
       "    <tr>\n",
       "      <th>4</th>\n",
       "      <td>Sai Ashyanth S</td>\n",
       "      <td>sai.a@healtharkinsights.com</td>\n",
       "      <td>2025-08-11</td>\n",
       "      <td>NaN</td>\n",
       "      <td>2026-08-11</td>\n",
       "    </tr>\n",
       "    <tr>\n",
       "      <th>...</th>\n",
       "      <td>...</td>\n",
       "      <td>...</td>\n",
       "      <td>...</td>\n",
       "      <td>...</td>\n",
       "      <td>...</td>\n",
       "    </tr>\n",
       "    <tr>\n",
       "      <th>88</th>\n",
       "      <td>Purav Gandhi</td>\n",
       "      <td>drpuravgandhi@healtharkinsights.com</td>\n",
       "      <td>2025-08-05</td>\n",
       "      <td>NaN</td>\n",
       "      <td>2026-08-05</td>\n",
       "    </tr>\n",
       "    <tr>\n",
       "      <th>89</th>\n",
       "      <td>Sargam Peshin</td>\n",
       "      <td>sargam.p@healtharkinsights.com</td>\n",
       "      <td>2025-08-05</td>\n",
       "      <td>NaN</td>\n",
       "      <td>2026-08-05</td>\n",
       "    </tr>\n",
       "    <tr>\n",
       "      <th>90</th>\n",
       "      <td>Dhruv Joshi</td>\n",
       "      <td>dhruv@healtharkinsights.com</td>\n",
       "      <td>2025-08-05</td>\n",
       "      <td>NaN</td>\n",
       "      <td>2026-08-05</td>\n",
       "    </tr>\n",
       "    <tr>\n",
       "      <th>91</th>\n",
       "      <td>Meghanshu Bhatia</td>\n",
       "      <td>meghanshu@healtharkinsights.com</td>\n",
       "      <td>2025-08-05</td>\n",
       "      <td>NaN</td>\n",
       "      <td>2026-08-05</td>\n",
       "    </tr>\n",
       "    <tr>\n",
       "      <th>92</th>\n",
       "      <td>Archita Srivastava</td>\n",
       "      <td>archita@healtharkinsights.com</td>\n",
       "      <td>2025-08-05</td>\n",
       "      <td>NaN</td>\n",
       "      <td>2026-08-05</td>\n",
       "    </tr>\n",
       "  </tbody>\n",
       "</table>\n",
       "<p>93 rows × 5 columns</p>\n",
       "</div>"
      ],
      "text/plain": [
       "                  User                                Email Date Started  \\\n",
       "0           Smit Doshi           smit@healtharkinsights.com   2025-08-05   \n",
       "1       Himani Acharya         himani@healtharkinsights.com   2025-08-05   \n",
       "2           Anant Jain      anantjain@healtharkinsights.com   2025-08-05   \n",
       "3          Jay Dalwadi     jaydalwadi@healtharkinsights.com   2025-08-05   \n",
       "4       Sai Ashyanth S          sai.a@healtharkinsights.com   2025-08-11   \n",
       "..                 ...                                  ...          ...   \n",
       "88        Purav Gandhi  drpuravgandhi@healtharkinsights.com   2025-08-05   \n",
       "89       Sargam Peshin       sargam.p@healtharkinsights.com   2025-08-05   \n",
       "90         Dhruv Joshi          dhruv@healtharkinsights.com   2025-08-05   \n",
       "91    Meghanshu Bhatia      meghanshu@healtharkinsights.com   2025-08-05   \n",
       "92  Archita Srivastava        archita@healtharkinsights.com   2025-08-05   \n",
       "\n",
       "    Date Ended Date of Reminder  \n",
       "0          NaN       2026-08-05  \n",
       "1          NaN       2026-08-05  \n",
       "2          NaN       2026-08-05  \n",
       "3          NaN       2026-08-05  \n",
       "4          NaN       2026-08-11  \n",
       "..         ...              ...  \n",
       "88         NaN       2026-08-05  \n",
       "89         NaN       2026-08-05  \n",
       "90         NaN       2026-08-05  \n",
       "91         NaN       2026-08-05  \n",
       "92         NaN       2026-08-05  \n",
       "\n",
       "[93 rows x 5 columns]"
      ]
     },
     "execution_count": 2,
     "metadata": {},
     "output_type": "execute_result"
    }
   ],
   "source": [
    "posh_df"
   ]
  }
 ],
 "metadata": {
  "kernelspec": {
   "display_name": "venv",
   "language": "python",
   "name": "python3"
  },
  "language_info": {
   "codemirror_mode": {
    "name": "ipython",
    "version": 3
   },
   "file_extension": ".py",
   "mimetype": "text/x-python",
   "name": "python",
   "nbconvert_exporter": "python",
   "pygments_lexer": "ipython3",
   "version": "3.10.11"
  }
 },
 "nbformat": 4,
 "nbformat_minor": 5
}
